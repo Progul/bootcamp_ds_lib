{
 "cells": [
  {
   "cell_type": "code",
   "execution_count": 2,
   "id": "1c16d6f2",
   "metadata": {},
   "outputs": [
    {
     "name": "stdout",
     "output_type": "stream",
     "text": [
      "Оставили дверь и выиграли: 33.1\n"
     ]
    }
   ],
   "source": [
    "import random\n",
    "\n",
    "\n",
    "def monty_hall(choice, change):\n",
    "    doors = random.randrange(1, 4)\n",
    "    if doors == choice:\n",
    "        if change:\n",
    "            return False\n",
    "        else:\n",
    "            return True\n",
    "    else:\n",
    "        if change:\n",
    "            return True\n",
    "        else:\n",
    "            return False\n",
    "\n",
    "games = 1000\n",
    "result = 0\n",
    "\n",
    "for i in range(games):\n",
    "    choice = random.randrange(1, 4)\n",
    "    if monty_hall(choice, False):\n",
    "        result += 1\n",
    "\n",
    "# print(f'Поменяли дверь и выиграли: {round(result/games*100, 2)}')\n",
    "print(f'Оставили дверь и выиграли: {round(result/games*100, 2)}')\n"
   ]
  }
 ],
 "metadata": {
  "kernelspec": {
   "display_name": "Python 3 (ipykernel)",
   "language": "python",
   "name": "python3"
  },
  "language_info": {
   "codemirror_mode": {
    "name": "ipython",
    "version": 3
   },
   "file_extension": ".py",
   "mimetype": "text/x-python",
   "name": "python",
   "nbconvert_exporter": "python",
   "pygments_lexer": "ipython3",
   "version": "3.10.4"
  }
 },
 "nbformat": 4,
 "nbformat_minor": 5
}
