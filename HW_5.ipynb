{
 "cells": [
  {
   "cell_type": "code",
   "execution_count": null,
   "id": "7a4baa23",
   "metadata": {},
   "outputs": [],
   "source": [
    "def check_symbol(symbol):\n",
    "    punctuation = [',', '.', '!', '?', ';', '-', ':', '—', '(', ')']\n",
    "    if symbol not in punctuation and not sym.isdigit():\n",
    "        return True\n",
    "    return False\n",
    "\n",
    "list_words = []\n",
    "with open('in.txt','r', encoding='UTF-8') as f:\n",
    "    text = f.read()\n",
    "    result = ''\n",
    "    for sym in text:\n",
    "        if check_symbol(sym):\n",
    "            result += sym.lower()\n",
    "    list_words = list(set(result.split()))\n",
    "    list_words.sort()\n",
    "\n",
    "with open('out.txt','w', encoding='UTF-8') as f:\n",
    "    f.write(f'Количество уникальных слов = {len(list_words)} \\n')\n",
    "    for word in list_words:\n",
    "        f.write(word + '\\n')"
   ]
  }
 ],
 "metadata": {
  "kernelspec": {
   "display_name": "Python 3 (ipykernel)",
   "language": "python",
   "name": "python3"
  },
  "language_info": {
   "codemirror_mode": {
    "name": "ipython",
    "version": 3
   },
   "file_extension": ".py",
   "mimetype": "text/x-python",
   "name": "python",
   "nbconvert_exporter": "python",
   "pygments_lexer": "ipython3",
   "version": "3.10.4"
  }
 },
 "nbformat": 4,
 "nbformat_minor": 5
}
